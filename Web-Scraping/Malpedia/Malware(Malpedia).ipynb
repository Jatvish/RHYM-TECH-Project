{
 "cells": [
  {
   "cell_type": "code",
   "execution_count": 20,
   "id": "3a960927-f423-4f18-9d07-897a1fffbc86",
   "metadata": {},
   "outputs": [],
   "source": [
    "from bs4 import BeautifulSoup\n",
    "import requests"
   ]
  },
  {
   "cell_type": "code",
   "execution_count": 21,
   "id": "b0521982-5305-41ed-a601-82a8d0bd945c",
   "metadata": {},
   "outputs": [],
   "source": [
    "url = 'https://malpedia.caad.fkie.fraunhofer.de/families'\n",
    "page = requests.get(url)\n"
   ]
  },
  {
   "cell_type": "code",
   "execution_count": 22,
   "id": "171ab60b-69b3-46fa-b9cc-bd4464cd8af4",
   "metadata": {},
   "outputs": [],
   "source": [
    "if page.status_code == 200:\n",
    "    soup = BeautifulSoup(page.text,'html')\n",
    "else:\n",
    "    print(\"request failed\")"
   ]
  },
  {
   "cell_type": "code",
   "execution_count": 23,
   "id": "7075f40e-cc0d-4a7d-9c31-0d1e6ebeda13",
   "metadata": {},
   "outputs": [],
   "source": [
    "table_data = soup.find(\"table\")"
   ]
  },
  {
   "cell_type": "code",
   "execution_count": 24,
   "id": "903f3c5e-9adc-4c44-94c0-18e6b99452b1",
   "metadata": {},
   "outputs": [],
   "source": [
    "table_body = table_data.find(\"tbody\")"
   ]
  },
  {
   "cell_type": "code",
   "execution_count": 35,
   "id": "914458a3-7e89-42ba-9eba-8f782de1dfe9",
   "metadata": {},
   "outputs": [
    {
     "data": {
      "text/plain": [
       "[{'id': 1, 'name': 'NetSupportManager RAT', 'OS': 'Windows'},\n",
       " {'id': 2, 'name': 'Lumma Stealer', 'OS': 'Windows'},\n",
       " {'id': 3, 'name': 'Matanbuchus', 'OS': 'Windows'},\n",
       " {'id': 4, 'name': 'HijackLoader', 'OS': 'Windows'},\n",
       " {'id': 5, 'name': 'DarkGate', 'OS': 'Windows'},\n",
       " {'id': 6, 'name': 'Cobalt Strike', 'OS': 'Windows'},\n",
       " {'id': 7, 'name': 'GootLoader', 'OS': 'Javascript'},\n",
       " {'id': 8, 'name': 'WarmCookie', 'OS': 'Windows'},\n",
       " {'id': 9, 'name': 'DoomedLoader', 'OS': 'Windows'},\n",
       " {'id': 10, 'name': 'Nova Stealer', 'OS': 'Windows'},\n",
       " {'id': 11, 'name': 'FlowCloud', 'OS': 'Windows'},\n",
       " {'id': 12, 'name': 'Formbook', 'OS': 'Windows'},\n",
       " {'id': 13, 'name': 'Unidentified 111 (Latrodectus)', 'OS': 'Windows'},\n",
       " {'id': 14, 'name': 'SideWinder', 'OS': 'Windows'},\n",
       " {'id': 15, 'name': 'Black Basta', 'OS': 'Windows'},\n",
       " {'id': 16, 'name': 'SmokeLoader', 'OS': 'Windows'},\n",
       " {'id': 17, 'name': 'Broomstick', 'OS': 'Windows'},\n",
       " {'id': 18, 'name': 'ChrGetPdsi Stealer', 'OS': 'Windows'},\n",
       " {'id': 19, 'name': 'Spectre Rat', 'OS': 'Windows'},\n",
       " {'id': 20, 'name': 'SpyNote', 'OS': 'Android'},\n",
       " {'id': 21, 'name': 'ZhMimikatz', 'OS': 'Windows'},\n",
       " {'id': 22, 'name': 'SamSam', 'OS': 'Windows'},\n",
       " {'id': 23, 'name': 'CaddyWiper', 'OS': 'Windows'},\n",
       " {'id': 24, 'name': 'BlackCat', 'OS': 'Windows'},\n",
       " {'id': 25, 'name': 'BlackMatter', 'OS': 'Windows'},\n",
       " {'id': 26, 'name': 'ExMatter', 'OS': 'Windows'},\n",
       " {'id': 27, 'name': 'Conti', 'OS': 'Windows'},\n",
       " {'id': 28, 'name': 'REvil', 'OS': 'Windows'},\n",
       " {'id': 29, 'name': 'Ryuk', 'OS': 'Windows'},\n",
       " {'id': 30, 'name': 'LockBit', 'OS': 'Windows'},\n",
       " {'id': 31, 'name': 'FlashBack', 'OS': 'MacOS'},\n",
       " {'id': 32, 'name': 'GaboonGrabber', 'OS': 'Windows'},\n",
       " {'id': 33, 'name': 'SystemBC', 'OS': 'Windows'},\n",
       " {'id': 34, 'name': 'IcedID', 'OS': 'Windows'},\n",
       " {'id': 35, 'name': 'TrickBot', 'OS': 'Windows'},\n",
       " {'id': 36, 'name': 'BumbleBee', 'OS': 'Windows'},\n",
       " {'id': 37, 'name': 'PlugX', 'OS': 'Windows'},\n",
       " {'id': 38, 'name': 'ValleyRAT', 'OS': 'Windows'},\n",
       " {'id': 39, 'name': 'Rhadamanthys', 'OS': 'Windows'},\n",
       " {'id': 40, 'name': '404 Keylogger', 'OS': 'Windows'},\n",
       " {'id': 41, 'name': 'Agent Tesla', 'OS': 'Windows'},\n",
       " {'id': 42, 'name': 'Remcos', 'OS': 'Windows'},\n",
       " {'id': 43, 'name': 'Lu0Bot', 'OS': 'Windows'},\n",
       " {'id': 44, 'name': 'EugenLoader', 'OS': 'ps1'},\n",
       " {'id': 45, 'name': '8Base', 'OS': 'Windows'},\n",
       " {'id': 46, 'name': 'Phobos', 'OS': 'Windows'},\n",
       " {'id': 47, 'name': '5.t Downloader', 'OS': 'Windows'},\n",
       " {'id': 48, 'name': 'DCRat', 'OS': 'Windows'},\n",
       " {'id': 49, 'name': 'Agent Racoon', 'OS': 'Windows'},\n",
       " {'id': 50, 'name': 'Ntospy', 'OS': 'Windows'},\n",
       " {'id': 51, 'name': 'MimiKatz', 'OS': 'Windows'},\n",
       " {'id': 52, 'name': 'Ghost RAT', 'OS': 'Windows'},\n",
       " {'id': 53, 'name': 'SweetSpecter', 'OS': 'Windows'},\n",
       " {'id': 54, 'name': 'TunnelSpecter', 'OS': 'Windows'},\n",
       " {'id': 55, 'name': 'JuicyPotato', 'OS': 'Windows'},\n",
       " {'id': 56, 'name': 'CHINACHOPPER', 'OS': 'Windows'},\n",
       " {'id': 57, 'name': 'GCleaner', 'OS': 'Windows'},\n",
       " {'id': 58, 'name': 'solarmarker', 'OS': 'Windows'},\n",
       " {'id': 59, 'name': 'QakBot', 'OS': 'Windows'},\n",
       " {'id': 60, 'name': 'Hook', 'OS': 'Android'},\n",
       " {'id': 61, 'name': 'Umbral', 'OS': 'Windows'},\n",
       " {'id': 62, 'name': 'Sliver', 'OS': 'Windows'},\n",
       " {'id': 63, 'name': 'Quasar RAT', 'OS': 'Windows'},\n",
       " {'id': 64, 'name': 'Amadey', 'OS': 'Windows'},\n",
       " {'id': 65, 'name': 'AsyncRAT', 'OS': 'Windows'},\n",
       " {'id': 66, 'name': 'RedLine Stealer', 'OS': 'Windows'},\n",
       " {'id': 67, 'name': 'NjRAT', 'OS': 'Windows'},\n",
       " {'id': 68, 'name': 'Xtreme RAT', 'OS': 'Windows'},\n",
       " {'id': 69, 'name': 'BianLian', 'OS': 'Windows'},\n",
       " {'id': 70, 'name': 'badbazaar', 'OS': 'Android'},\n",
       " {'id': 71, 'name': 'Echelon', 'OS': 'Windows'},\n",
       " {'id': 72, 'name': 'Socks5 Systemz', 'OS': 'Windows'},\n",
       " {'id': 73, 'name': 'Berbew', 'OS': 'Windows'},\n",
       " {'id': 74, 'name': 'Dosia', 'OS': 'Windows'},\n",
       " {'id': 75, 'name': 'DONOT', 'OS': 'Windows'},\n",
       " {'id': 76, 'name': 'Rafel RAT', 'OS': 'Android'},\n",
       " {'id': 77, 'name': 'Pony', 'OS': 'Windows'},\n",
       " {'id': 78, 'name': 'Venom RAT', 'OS': 'Windows'},\n",
       " {'id': 79, 'name': 'Nanocore RAT', 'OS': 'Windows'},\n",
       " {'id': 80, 'name': 'XWorm', 'OS': 'Windows'},\n",
       " {'id': 81, 'name': 'SectopRAT', 'OS': 'Windows'},\n",
       " {'id': 82, 'name': 'WINELOADER', 'OS': 'Windows'},\n",
       " {'id': 83, 'name': 'POOLRAT', 'OS': 'MacOS'},\n",
       " {'id': 84, 'name': 'JSOutProx', 'OS': 'Windows'},\n",
       " {'id': 85, 'name': 'Misfox', 'OS': 'Windows'},\n",
       " {'id': 86, 'name': 'KEYPLUG', 'OS': 'Linux'},\n",
       " {'id': 87, 'name': 'win.ghostengine', 'OS': 'Windows'},\n",
       " {'id': 88, 'name': 'Mirai', 'OS': 'Linux'},\n",
       " {'id': 89, 'name': 'WhiteSnake Stealer', 'OS': 'Windows'},\n",
       " {'id': 90, 'name': 'FAKEUPDATES', 'OS': 'Javascript'},\n",
       " {'id': 91, 'name': 'Aria-body', 'OS': 'Windows'},\n",
       " {'id': 92, 'name': 'Nebulae', 'OS': 'Windows'},\n",
       " {'id': 93, 'name': 'Grandoreiro', 'OS': 'Windows'},\n",
       " {'id': 94, 'name': 'BlackSuit', 'OS': 'Windows'},\n",
       " {'id': 95, 'name': 'BitRAT', 'OS': 'Windows'},\n",
       " {'id': 96, 'name': 'Pikabot', 'OS': 'Windows'},\n",
       " {'id': 97, 'name': 'SilentGh0st', 'OS': 'Windows'},\n",
       " {'id': 98, 'name': 'Industroyer', 'OS': 'Windows'},\n",
       " {'id': 99, 'name': 'INDUSTROYER2', 'OS': 'Windows'},\n",
       " {'id': 100, 'name': 'Ebury', 'OS': 'Linux'}]"
      ]
     },
     "execution_count": 35,
     "metadata": {},
     "output_type": "execute_result"
    }
   ],
   "source": [
    "result = []\n",
    "count = 0\n",
    "for table_row in table_body.findAll(\"tr\"):\n",
    "    count = count+1\n",
    "    table_cols = table_row.findAll(\"td\")\n",
    "    span_tag = table_row.find('i')\n",
    "    if span_tag and span_tag.has_attr('title'):\n",
    "        title_value = span_tag.get('title')\n",
    "    else:\n",
    "        title_value = 'N/A'  # Default value if not found\n",
    "    \n",
    "    result.append({\"id\":count, \"name\":table_cols[3].text.replace(\"\\n\", \"\").strip(),\"OS\": title_value})\n",
    "\n",
    "result"
   ]
  },
  {
   "cell_type": "code",
   "execution_count": 36,
   "id": "da2b8e63-2636-4314-9674-3061798f0f74",
   "metadata": {},
   "outputs": [],
   "source": [
    "all_links = []\n",
    "\n",
    "for table_row in table_body.findAll(\"tr\"):\n",
    "    \n",
    "    links = table_row.get('data-href')\n",
    "    all_links.append(links)\n",
    "    # print(links)\n",
    "    \n",
    "\n",
    "\n",
    "\n",
    "# print(all_links)"
   ]
  },
  {
   "cell_type": "code",
   "execution_count": 37,
   "id": "c32f60a6-9738-46e6-9efb-4029bb702066",
   "metadata": {},
   "outputs": [],
   "source": [
    "def fetching_meta_information(soup2):\n",
    "    desc_list = []\n",
    "    \n",
    "\n",
    "    try:\n",
    "        desc = soup2.find(\"p\").text.strip()\n",
    "        # print(desc)\n",
    "      \n",
    "        desc_list.append(desc)\n",
    "        \n",
    "        \n",
    "        \n",
    "    except Exception as e:\n",
    "        print(f\"An error occurred: {e}\")\n",
    "\n",
    "    # print(name_list)\n",
    "    print(desc_list)\n",
    "    \n"
   ]
  },
  {
   "cell_type": "code",
   "execution_count": null,
   "id": "33169347-6d36-4e3e-a396-41a3135ceae8",
   "metadata": {},
   "outputs": [
    {
     "name": "stdout",
     "output_type": "stream",
     "text": [
      "['Enigma Software notes that NetSupport Manager is a genuine application, which was first released about twenty years ago. The purpose of the NetSupport Manager tool is to enable users to receive remote technical support or provide remote computer assistance. However, cyber crooks have hijacked this useful application and misappropriated it to use it in their harmful campaigns. The name of the modified version of the NetSupport Manager has been labeled the NetSupport Manager RAT.']\n",
      "['Lumma Stealer (aka LummaC2 Stealer) is an information stealer written in C language that has been available through a Malware-as-a-Service (MaaS) model on Russian-speaking forums since at least August 2022. It is believed to have been developed by the threat actor \"Shamel\", who goes by the alias \"Lumma\". Lumma Stealer primarily targets cryptocurrency wallets and two-factor authentication (2FA) browser extensions, before ultimately stealing sensitive information from the victim\\'s machine. Once the targeted data is obtained, it is exfiltrated to a C2 server via HTTP POST requests using the user agent \"TeslaBrowser/5.5\".\" The stealer also features a non-resident loader that is capable of delivering additional payloads via EXE, DLL, and PowerShell.']\n",
      "['According to PCrisk, Matanbuchus is a loader-type malicious program offered by its developers as Malware-as-a-Service (MaaS). This piece of software is designed to cause chain infections.Since it is used as a MaaS, both the malware it infiltrates into systems, and the attack reasons can vary - depending on the cyber criminals operating it. Matanbuchus has been observed being used in attacks against US universities and high schools, as well as a Belgian high-tech organization.']\n",
      "[\"According to Rapid7, this is a loader first spotted in July 2023. It implements several evasion techniques including Process Doppelgänging, DLL Search Order Hijacking, and Heaven's Gate. It has been observed to store its malicious payload in the IDAT chunk of PNG file format.\"]\n"
     ]
    }
   ],
   "source": [
    "counter = 0\n",
    "for link in all_links:\n",
    "    link = \"https://malpedia.caad.fkie.fraunhofer.de\"+link\n",
    "    url2 = link\n",
    "    page2 = requests.get(url2)\n",
    "    \n",
    "\n",
    "    if page2.status_code == 200:\n",
    "        soup2 = BeautifulSoup(page2.text,'html')\n",
    "        fetching_meta_information(soup2)\n",
    "\n",
    "        counter = counter + 1\n",
    "        # print(counter)\n",
    "        \n",
    "    else:\n",
    "        print(\"request not found\")\n",
    "\n",
    "    \n",
    "\n",
    "    \n",
    "    \n",
    "    "
   ]
  },
  {
   "cell_type": "code",
   "execution_count": null,
   "id": "02444303-8465-4ffa-88ae-60678039ae0f",
   "metadata": {},
   "outputs": [],
   "source": []
  }
 ],
 "metadata": {
  "kernelspec": {
   "display_name": "Python 3 (ipykernel)",
   "language": "python",
   "name": "python3"
  },
  "language_info": {
   "codemirror_mode": {
    "name": "ipython",
    "version": 3
   },
   "file_extension": ".py",
   "mimetype": "text/x-python",
   "name": "python",
   "nbconvert_exporter": "python",
   "pygments_lexer": "ipython3",
   "version": "3.10.6"
  }
 },
 "nbformat": 4,
 "nbformat_minor": 5
}
